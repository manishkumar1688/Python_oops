{
  "nbformat": 4,
  "nbformat_minor": 0,
  "metadata": {
    "colab": {
      "provenance": []
    },
    "kernelspec": {
      "name": "python3",
      "display_name": "Python 3"
    },
    "language_info": {
      "name": "python"
    }
  },
  "cells": [
    {
      "cell_type": "markdown",
      "source": [
        "# **THEORY QUESTION**"
      ],
      "metadata": {
        "id": "XE07Z4SfS08Y"
      }
    },
    {
      "cell_type": "markdown",
      "source": [
        "**Q1. What is object oriented programming oop?**\n",
        "\n",
        "    - In this programming everything revolves around an  object like in a\n",
        "      physical world. So this allows to work in software like real world scenario.\n",
        "\n",
        "    - Objects are real world entities. EX- Bank,watch,TV etc.\n",
        "    - Almost everything in python is an object with its properties and methods.\n",
        "    - object can be created only from a class and nothing else.\n",
        "\n",
        "    - for Ex:-"
      ],
      "metadata": {
        "id": "yFqKuemQS8zi"
      }
    },
    {
      "cell_type": "code",
      "source": [
        "# Object\n",
        "class Human:\n",
        "    def __init__(self,name,hair,height,colour):\n",
        "        self.name = \"mk\"\n",
        "        self.hair = \"bl\"\n",
        "        self.height = \"100\"\n",
        "        self.colour = \"yel\"\n",
        "    def display(self):\n",
        "        print(\"name\",self.name,\"hair\",self.hair,\"height\",self.height,\"colour\",self.colour)\n",
        "\n",
        "    def change_hair(self,hair):\n",
        "        self.hair = \"blue\"\n",
        "\n",
        "    def change_height(self,height):\n",
        "        self.height = \"100\"\n",
        "\n",
        "    def change_colour(self,colour):\n",
        "        self.colour = \"red\""
      ],
      "metadata": {
        "id": "c7v_u6mc3AEh"
      },
      "execution_count": null,
      "outputs": []
    },
    {
      "cell_type": "code",
      "source": [
        "obj = Human(\"mk\",\"red\",\"20\",\"bl\") # object is create from the class HUman\n",
        "obj.display()\n"
      ],
      "metadata": {
        "colab": {
          "base_uri": "https://localhost:8080/"
        },
        "id": "ED-yP3r53AUx",
        "outputId": "bae188d1-6b14-473c-86ad-c697e600bbf3"
      },
      "execution_count": null,
      "outputs": [
        {
          "output_type": "stream",
          "name": "stdout",
          "text": [
            "name mk hair bl height 100 colour yel\n"
          ]
        }
      ]
    },
    {
      "cell_type": "code",
      "source": [
        "obj.change_hair(\"blue\")\n",
        "obj.display()"
      ],
      "metadata": {
        "colab": {
          "base_uri": "https://localhost:8080/"
        },
        "id": "nXLzwX6G3Ack",
        "outputId": "1ed8310b-188d-4fb2-dc94-d538a919265c"
      },
      "execution_count": null,
      "outputs": [
        {
          "output_type": "stream",
          "name": "stdout",
          "text": [
            "name mk hair blue height 100 colour yel\n"
          ]
        }
      ]
    },
    {
      "cell_type": "markdown",
      "source": [
        "**Q2. What is a class in oop?**\n",
        "\n",
        "    - Class is a bluprint or template from that multiple object and methods can\n",
        "      becreated in python programming language.\n",
        "    - Class represent a group of entities similar to the real world.\n",
        "\n",
        "    - for EX:- There are many no. of students study in a classroom but all the\n",
        "      students are represented by a name of class(3rd,4th,physics, chemistry etc.)\n"
      ],
      "metadata": {
        "id": "yRUv2Kp_TNbK"
      }
    },
    {
      "cell_type": "markdown",
      "source": [
        "**Q3. What is an object in oop?**\n",
        "\n",
        "    - Object is an entities which can be assigned only to a particular class.\n",
        "    - through object any methods and variable can be called using obj.var/\n",
        "      method.\n",
        "\n",
        "    - for EX:-"
      ],
      "metadata": {
        "id": "zcNtv9qMTU6C"
      }
    },
    {
      "cell_type": "code",
      "source": [
        "class A:   # Parent class\n",
        "    a = 10   # public\n",
        "    _b = 20  # Protecte\n",
        "    print(a,\" \",_b,)\n",
        "class B(A):   # Child class\n",
        "    def show(self):\n",
        "        print(self.a)\n",
        "        print(self._b)"
      ],
      "metadata": {
        "colab": {
          "base_uri": "https://localhost:8080/"
        },
        "id": "A8tt5MpO_IB1",
        "outputId": "56ad0a7b-acb4-4571-8b0e-d7da21d3a30a"
      },
      "execution_count": null,
      "outputs": [
        {
          "output_type": "stream",
          "name": "stdout",
          "text": [
            "10   20\n"
          ]
        }
      ]
    },
    {
      "cell_type": "code",
      "source": [
        "obj1 = B()\n",
        "obj1.show()\n"
      ],
      "metadata": {
        "colab": {
          "base_uri": "https://localhost:8080/"
        },
        "id": "C9753K-EAalD",
        "outputId": "56a5289b-bd10-43f4-a1df-1165436a4077"
      },
      "execution_count": null,
      "outputs": [
        {
          "output_type": "stream",
          "name": "stdout",
          "text": [
            "10\n",
            "20\n"
          ]
        }
      ]
    },
    {
      "cell_type": "markdown",
      "source": [
        "**Q4. What is the difference between abstraction and encapsulation?**\n",
        "\n",
        "    - **abstraction:**\n",
        "\n",
        "    - abstraction shows only necessary details.\n",
        "    - It happens during the design phase. What has to be shown in public\n",
        "    - It is a thought process design\n",
        "    - It is achieved by:\n",
        "      from abc import ABC,abstractmethod\n",
        "      \"ABC\" must be inherited in the class\n",
        "      There must be at least one abstract method in the abstract class.\n",
        "\n",
        "\n",
        "\n",
        "\n",
        "    - **encapsulation**\n",
        "\n",
        "    - It hides complexity\n",
        "    - It happens during execution(coding) phase developer uses encapsulation to\n",
        "      implement abstraction.\n",
        "    - It is execution(coding) that follows abstraction\n",
        "    - It is achieved by applying access modifier i.e. Public/protected &  \n",
        "      Private access modifier.\n",
        "\n",
        "    - for EX:-"
      ],
      "metadata": {
        "id": "rIXH178RTgQG"
      }
    },
    {
      "cell_type": "code",
      "source": [
        "#Abstract"
      ],
      "metadata": {
        "id": "bi1YDKkMxJbI"
      },
      "execution_count": null,
      "outputs": []
    },
    {
      "cell_type": "code",
      "source": [
        "from abc import ABC,abstractmethod"
      ],
      "metadata": {
        "id": "yXvxKOx9yfzD"
      },
      "execution_count": null,
      "outputs": []
    },
    {
      "cell_type": "code",
      "source": [
        "class Bankapp(ABC):\n",
        "    def database(self):\n",
        "        print(\"connected to database\")\n",
        "    @abstractmethod\n",
        "    def security(self):\n",
        "        pass\n",
        "    @abstractmethod\n",
        "    def display(self):\n",
        "        pass\n",
        "class MobileApp(Bankapp):\n",
        "    def mobile_login(self):\n",
        "        print(\"login into mobile\")\n",
        "    def security(self):\n",
        "        print(\"Mobile security\")\n",
        "    def display(self):\n",
        "        print(\"display\")"
      ],
      "metadata": {
        "id": "XI94lV0qygII"
      },
      "execution_count": null,
      "outputs": []
    },
    {
      "cell_type": "code",
      "source": [
        "mob = MobileApp()\n",
        "mob.database()"
      ],
      "metadata": {
        "colab": {
          "base_uri": "https://localhost:8080/"
        },
        "id": "__UGTJgVygQx",
        "outputId": "efc5ad36-8c9e-4faa-d165-5341fd288866"
      },
      "execution_count": null,
      "outputs": [
        {
          "output_type": "stream",
          "name": "stdout",
          "text": [
            "connected to database\n"
          ]
        }
      ]
    },
    {
      "cell_type": "code",
      "source": [
        "#Encapsulation"
      ],
      "metadata": {
        "id": "y428Ugc8ygWE"
      },
      "execution_count": null,
      "outputs": []
    },
    {
      "cell_type": "code",
      "source": [
        "class A:   # Parent class\n",
        "    a = 10   # public\n",
        "    _b = 20  # Protected\n",
        "    __c = None # Private\n",
        "    print(a,\" \",_b,\" \",__c)\n",
        "class B(A):   # Child class\n",
        "    def show(self):\n",
        "        print(self.a)\n",
        "        print(self._b)\n",
        "        print(self.__c)    # throw an error because this is private variable."
      ],
      "metadata": {
        "colab": {
          "base_uri": "https://localhost:8080/"
        },
        "id": "SCMzqW4zygbj",
        "outputId": "022f88df-d5e0-44d3-f937-1bfc0687cd9e"
      },
      "execution_count": null,
      "outputs": [
        {
          "output_type": "stream",
          "name": "stdout",
          "text": [
            "10   20   None\n"
          ]
        }
      ]
    },
    {
      "cell_type": "code",
      "source": [
        "obj = B()\n",
        "obj.show()"
      ],
      "metadata": {
        "colab": {
          "base_uri": "https://localhost:8080/",
          "height": 280
        },
        "id": "R7EErjZ2zHfS",
        "outputId": "6cffec08-7cbd-4f0a-ecd4-e6f42a19943a"
      },
      "execution_count": null,
      "outputs": [
        {
          "output_type": "stream",
          "name": "stdout",
          "text": [
            "10\n",
            "20\n"
          ]
        },
        {
          "output_type": "error",
          "ename": "AttributeError",
          "evalue": "'B' object has no attribute '_B__c'",
          "traceback": [
            "\u001b[0;31m---------------------------------------------------------------------------\u001b[0m",
            "\u001b[0;31mAttributeError\u001b[0m                            Traceback (most recent call last)",
            "\u001b[0;32m<ipython-input-7-9b724104bcb9>\u001b[0m in \u001b[0;36m<cell line: 0>\u001b[0;34m()\u001b[0m\n\u001b[1;32m      1\u001b[0m \u001b[0mobj\u001b[0m \u001b[0;34m=\u001b[0m \u001b[0mB\u001b[0m\u001b[0;34m(\u001b[0m\u001b[0;34m)\u001b[0m\u001b[0;34m\u001b[0m\u001b[0;34m\u001b[0m\u001b[0m\n\u001b[0;32m----> 2\u001b[0;31m \u001b[0mobj\u001b[0m\u001b[0;34m.\u001b[0m\u001b[0mshow\u001b[0m\u001b[0;34m(\u001b[0m\u001b[0;34m)\u001b[0m\u001b[0;34m\u001b[0m\u001b[0;34m\u001b[0m\u001b[0m\n\u001b[0m",
            "\u001b[0;32m<ipython-input-6-7432e05b54a2>\u001b[0m in \u001b[0;36mshow\u001b[0;34m(self)\u001b[0m\n\u001b[1;32m      8\u001b[0m         \u001b[0mprint\u001b[0m\u001b[0;34m(\u001b[0m\u001b[0mself\u001b[0m\u001b[0;34m.\u001b[0m\u001b[0ma\u001b[0m\u001b[0;34m)\u001b[0m\u001b[0;34m\u001b[0m\u001b[0;34m\u001b[0m\u001b[0m\n\u001b[1;32m      9\u001b[0m         \u001b[0mprint\u001b[0m\u001b[0;34m(\u001b[0m\u001b[0mself\u001b[0m\u001b[0;34m.\u001b[0m\u001b[0m_b\u001b[0m\u001b[0;34m)\u001b[0m\u001b[0;34m\u001b[0m\u001b[0;34m\u001b[0m\u001b[0m\n\u001b[0;32m---> 10\u001b[0;31m         \u001b[0mprint\u001b[0m\u001b[0;34m(\u001b[0m\u001b[0mself\u001b[0m\u001b[0;34m.\u001b[0m\u001b[0m__c\u001b[0m\u001b[0;34m)\u001b[0m\u001b[0;34m\u001b[0m\u001b[0;34m\u001b[0m\u001b[0m\n\u001b[0m",
            "\u001b[0;31mAttributeError\u001b[0m: 'B' object has no attribute '_B__c'"
          ]
        }
      ]
    },
    {
      "cell_type": "markdown",
      "source": [
        "**Q5. What are dunder methods in python?**\n",
        "\n",
        "-     These methods are the methods defined by built in classes in python\n",
        "-     We define these types of methods for creating custom objects\n",
        "-     Implementing overloading in python\n",
        "-     All the methods surrounding the double underscore is a dunder method\n",
        "      For EX:"
      ],
      "metadata": {
        "id": "QMlhuCWCTuIC"
      }
    },
    {
      "cell_type": "code",
      "source": [
        "a = 3\n",
        "b = 5\n",
        "a + b # This is usual way to get result"
      ],
      "metadata": {
        "id": "PjsFVl359zzl",
        "colab": {
          "base_uri": "https://localhost:8080/"
        },
        "outputId": "7ae26888-144c-488d-d01b-972a505d8ac2"
      },
      "execution_count": null,
      "outputs": [
        {
          "output_type": "execute_result",
          "data": {
            "text/plain": [
              "8"
            ]
          },
          "metadata": {},
          "execution_count": 1
        }
      ]
    },
    {
      "cell_type": "code",
      "source": [
        "a.__add__(b) # But to getthe same result of addition as above we can use this __add__() inbuild function also i.e. Dunder method."
      ],
      "metadata": {
        "id": "xzxVRPBV9z9K",
        "colab": {
          "base_uri": "https://localhost:8080/"
        },
        "outputId": "69b053c4-ea89-448d-8586-d08b9fb321e4"
      },
      "execution_count": null,
      "outputs": [
        {
          "output_type": "execute_result",
          "data": {
            "text/plain": [
              "8"
            ]
          },
          "metadata": {},
          "execution_count": 2
        }
      ]
    },
    {
      "cell_type": "code",
      "source": [],
      "metadata": {
        "id": "11ePzI6n90Dz"
      },
      "execution_count": null,
      "outputs": []
    },
    {
      "cell_type": "code",
      "source": [],
      "metadata": {
        "id": "j9hYaSPo90Kv"
      },
      "execution_count": null,
      "outputs": []
    },
    {
      "cell_type": "markdown",
      "source": [
        "**Q6. Explain the concept of inheritance in oop.**\n",
        "-     Concept of inheritence in oops is entirely based on\n",
        "      the attributes/relationships between a child class and a parent class. It revolves around the accessing one class through another class.\n",
        "       Note : child class is more powerfull than the parent class because child can have the property of parent but parent can't have property of a child.\n",
        "\n",
        "       So this is all about Inheritance.\n",
        "\n",
        "      for Ex:"
      ],
      "metadata": {
        "id": "rTr0fTtAT6Bz"
      }
    },
    {
      "cell_type": "code",
      "source": [
        "class Tiger:  # Parent class\n",
        "  age = \"50\"\n",
        "  def show_age(self):\n",
        "    print(self.age)\n",
        "\n",
        "class Cub(Tiger):  # Child class\n",
        "  def show_name(self):\n",
        "    print(\"cub\")"
      ],
      "metadata": {
        "id": "EzLhcFS7kcAW"
      },
      "execution_count": null,
      "outputs": []
    },
    {
      "cell_type": "code",
      "source": [
        "obj1 = Cub() # Child class\n",
        "obj2 = Tiger() # Parent class\n",
        "obj1.show_name()\n",
        "obj2.show_age()"
      ],
      "metadata": {
        "colab": {
          "base_uri": "https://localhost:8080/"
        },
        "id": "k5x1O57PkcJJ",
        "outputId": "3f9a8def-55b9-496d-fcad-10f9ee7bc44b"
      },
      "execution_count": null,
      "outputs": [
        {
          "output_type": "stream",
          "name": "stdout",
          "text": [
            "cub\n",
            "50\n"
          ]
        }
      ]
    },
    {
      "cell_type": "code",
      "source": [
        "obj1.show_age() # Child class can access the attributes/property of parent class i.e. age"
      ],
      "metadata": {
        "colab": {
          "base_uri": "https://localhost:8080/"
        },
        "id": "nLQQVxj4kcSW",
        "outputId": "def8e1eb-bc77-4425-e6ff-523b54fa2766"
      },
      "execution_count": null,
      "outputs": [
        {
          "output_type": "stream",
          "name": "stdout",
          "text": [
            "50\n"
          ]
        }
      ]
    },
    {
      "cell_type": "code",
      "source": [
        "obj2.show_name() #Trrow error because>> parent class can't access the property/attributes of child class like typical physical realities"
      ],
      "metadata": {
        "colab": {
          "base_uri": "https://localhost:8080/",
          "height": 141
        },
        "id": "qMxynCQcmsKC",
        "outputId": "d11f08ea-cf21-4be1-bb64-baeb60039a33"
      },
      "execution_count": null,
      "outputs": [
        {
          "output_type": "error",
          "ename": "AttributeError",
          "evalue": "'Tiger' object has no attribute 'show_name'",
          "traceback": [
            "\u001b[0;31m---------------------------------------------------------------------------\u001b[0m",
            "\u001b[0;31mAttributeError\u001b[0m                            Traceback (most recent call last)",
            "\u001b[0;32m<ipython-input-54-b990b381a0ac>\u001b[0m in \u001b[0;36m<cell line: 0>\u001b[0;34m()\u001b[0m\n\u001b[0;32m----> 1\u001b[0;31m \u001b[0mobj2\u001b[0m\u001b[0;34m.\u001b[0m\u001b[0mshow_name\u001b[0m\u001b[0;34m(\u001b[0m\u001b[0;34m)\u001b[0m\u001b[0;34m\u001b[0m\u001b[0;34m\u001b[0m\u001b[0m\n\u001b[0m",
            "\u001b[0;31mAttributeError\u001b[0m: 'Tiger' object has no attribute 'show_name'"
          ]
        }
      ]
    },
    {
      "cell_type": "markdown",
      "source": [
        "**Q7. What is polymorphism in oop?**\n",
        "\n",
        "-     Poly means many and Morphism means forms/states.\n",
        "-     refres to an object taking several forms depending\n",
        "      on the methods data"
      ],
      "metadata": {
        "id": "wGOrZ_HbUGQm"
      }
    },
    {
      "cell_type": "code",
      "source": [
        "#EXample:\n",
        "def func(a,b):\n",
        "    return a+b # See below>> this addition function is taking many forms therefore it is called as Polymorphism"
      ],
      "metadata": {
        "id": "u1cMRtlfpK5f"
      },
      "execution_count": null,
      "outputs": []
    },
    {
      "cell_type": "code",
      "source": [
        "func(2,3) # addition of number"
      ],
      "metadata": {
        "colab": {
          "base_uri": "https://localhost:8080/"
        },
        "id": "T3QDwuyUpLNK",
        "outputId": "ef1e6a6b-de3d-42b0-98a6-12ec66a57039"
      },
      "execution_count": null,
      "outputs": [
        {
          "output_type": "execute_result",
          "data": {
            "text/plain": [
              "5"
            ]
          },
          "metadata": {},
          "execution_count": 56
        }
      ]
    },
    {
      "cell_type": "code",
      "source": [
        "func(\"man\", \"ish\") # addition og string"
      ],
      "metadata": {
        "colab": {
          "base_uri": "https://localhost:8080/",
          "height": 35
        },
        "id": "HXBGcBaspLWn",
        "outputId": "62e53a2e-1831-4fb5-dcb7-1ae4686f6edc"
      },
      "execution_count": null,
      "outputs": [
        {
          "output_type": "execute_result",
          "data": {
            "text/plain": [
              "'manish'"
            ],
            "application/vnd.google.colaboratory.intrinsic+json": {
              "type": "string"
            }
          },
          "metadata": {},
          "execution_count": 57
        }
      ]
    },
    {
      "cell_type": "code",
      "source": [
        "func([2,4,5,6],[8,9,6]) #addition of data type i.e list"
      ],
      "metadata": {
        "colab": {
          "base_uri": "https://localhost:8080/"
        },
        "id": "bRNavXlopLdm",
        "outputId": "7b858545-18ba-479c-a925-8247f1e601b1"
      },
      "execution_count": null,
      "outputs": [
        {
          "output_type": "execute_result",
          "data": {
            "text/plain": [
              "[2, 4, 5, 6, 8, 9, 6]"
            ]
          },
          "metadata": {},
          "execution_count": 58
        }
      ]
    },
    {
      "cell_type": "code",
      "source": [],
      "metadata": {
        "id": "r-TQOVwspLj3"
      },
      "execution_count": null,
      "outputs": []
    },
    {
      "cell_type": "markdown",
      "source": [
        "**Q8. How is encapsulation is achieved in python?**\n",
        "\n",
        "-     Encapsulation(Hiding something) is achieved in python through \"Access\n",
        "      modifiers\"\n",
        "      There are three types of modifiers:\n",
        "-     1st - Public modifiers>> It can be accessed  \n",
        "      anywhere accreoss the class and methods.\n",
        "      syntax: a = 20\n",
        "-     2nd - Protected modifiers >> It can be accessed in\n",
        "      the same class along with other derived classes as well\n",
        "      syntax: _a = 20\n",
        "-     3rd - Private modifiers>> It can be accessed only  \n",
        "      in the same class and is highly secure.\n",
        "      syntax: __a = 20"
      ],
      "metadata": {
        "id": "d48Q0H6iUOP-"
      }
    },
    {
      "cell_type": "code",
      "source": [
        "# Example: So, to give access or not means controling the access of different variables methods anencapsulation is achieved.\n",
        "class A:   # Parent class\n",
        "    a = 10   # public\n",
        "    _b = 20  # Protected\n",
        "    __c = None # Private\n",
        "    print(a,\" \",_b,\" \",__c)\n",
        "class B(A):   # Child class\n",
        "    pass"
      ],
      "metadata": {
        "colab": {
          "base_uri": "https://localhost:8080/"
        },
        "id": "X3JpICM3slHT",
        "outputId": "b0a24aae-4eeb-4b0a-8894-14e339e71466"
      },
      "execution_count": null,
      "outputs": [
        {
          "output_type": "stream",
          "name": "stdout",
          "text": [
            "10   20   None\n"
          ]
        }
      ]
    },
    {
      "cell_type": "code",
      "source": [
        "obj = B()\n",
        "print(obj.a) It is possible to access the public variable in other class\n",
        "print(obj._b) It can be accessed in self and other derived classes\n",
        "print(obj.__c) # throw an error >> It can only be accessed within the same class not in any other class."
      ],
      "metadata": {
        "colab": {
          "base_uri": "https://localhost:8080/",
          "height": 211
        },
        "id": "6p4DXZsMslYV",
        "outputId": "03229733-6ffb-442a-86b9-4c3f40e9fe6e"
      },
      "execution_count": null,
      "outputs": [
        {
          "output_type": "stream",
          "name": "stdout",
          "text": [
            "10\n",
            "20\n"
          ]
        },
        {
          "output_type": "error",
          "ename": "AttributeError",
          "evalue": "'B' object has no attribute '__c'",
          "traceback": [
            "\u001b[0;31m---------------------------------------------------------------------------\u001b[0m",
            "\u001b[0;31mAttributeError\u001b[0m                            Traceback (most recent call last)",
            "\u001b[0;32m<ipython-input-60-6faee4367933>\u001b[0m in \u001b[0;36m<cell line: 0>\u001b[0;34m()\u001b[0m\n\u001b[1;32m      2\u001b[0m \u001b[0mprint\u001b[0m\u001b[0;34m(\u001b[0m\u001b[0mobj\u001b[0m\u001b[0;34m.\u001b[0m\u001b[0ma\u001b[0m\u001b[0;34m)\u001b[0m\u001b[0;34m\u001b[0m\u001b[0;34m\u001b[0m\u001b[0m\n\u001b[1;32m      3\u001b[0m \u001b[0mprint\u001b[0m\u001b[0;34m(\u001b[0m\u001b[0mobj\u001b[0m\u001b[0;34m.\u001b[0m\u001b[0m_b\u001b[0m\u001b[0;34m)\u001b[0m\u001b[0;34m\u001b[0m\u001b[0;34m\u001b[0m\u001b[0m\n\u001b[0;32m----> 4\u001b[0;31m \u001b[0mprint\u001b[0m\u001b[0;34m(\u001b[0m\u001b[0mobj\u001b[0m\u001b[0;34m.\u001b[0m\u001b[0m__c\u001b[0m\u001b[0;34m)\u001b[0m\u001b[0;34m\u001b[0m\u001b[0;34m\u001b[0m\u001b[0m\n\u001b[0m",
            "\u001b[0;31mAttributeError\u001b[0m: 'B' object has no attribute '__c'"
          ]
        }
      ]
    },
    {
      "cell_type": "code",
      "source": [],
      "metadata": {
        "id": "in5S8Hd4slkD"
      },
      "execution_count": null,
      "outputs": []
    },
    {
      "cell_type": "markdown",
      "source": [
        "**Q9. What is a constructor in python?**\n",
        "\n",
        "-     In Python, a constructor is a special method that creates and initializes objects when a class is instantiated. Constructors are a key part of object-oriented programming.\n",
        "Working of a constructors\n",
        "•\tConstructor is denoted as   __init__().\n",
        "•\tIt's defined within the class definition.\n",
        "•\tWhen an object is created, __init__() is automatically called with the new object as the first argument.\n",
        "•\tThe constructor uses “self” to  initialize the object's attributes.\n",
        "\n"
      ],
      "metadata": {
        "id": "dWMo61c1UfPu"
      }
    },
    {
      "cell_type": "code",
      "source": [
        "class Animal:\n",
        "  def __init__(self):\n",
        "    print(\"Animal\")\n",
        "  def show(self):\n",
        "    print(\"colour\")"
      ],
      "metadata": {
        "id": "RMTOJuHVwCEF"
      },
      "execution_count": null,
      "outputs": []
    },
    {
      "cell_type": "code",
      "source": [
        "obj = Animal()\n",
        "obj.show()"
      ],
      "metadata": {
        "colab": {
          "base_uri": "https://localhost:8080/"
        },
        "id": "B6ZL_9rLwCXP",
        "outputId": "d09802a6-324f-4dd7-c983-0bd9a7b4c236"
      },
      "execution_count": null,
      "outputs": [
        {
          "output_type": "stream",
          "name": "stdout",
          "text": [
            "Animal\n",
            "colour\n"
          ]
        }
      ]
    },
    {
      "cell_type": "markdown",
      "source": [
        "**Q10. What are class and static method in python?**\n",
        "        CLASSMETHOD\n",
        "-      Class method works upon the class variable,\n",
        "-      To access a class variable,we need to use classmethod\n",
        "-      we need to use decorator to make classmethod i.e.- @classmethod  on top\n",
        "       of the method  \n",
        "\n",
        "       STATICMETHOD\n",
        "-      Static method is used when some processing is related to the class but\n",
        "       doesn't need it's class or its instance to perform any work.\n",
        "-      It is used to pass some values from outside and perform some action in\n",
        "       the method.\n",
        "       used Decorator : @staticmethod\n",
        "       syntax to call static method :  classname.method_name()"
      ],
      "metadata": {
        "id": "sQ_sozxnUkge"
      }
    },
    {
      "cell_type": "code",
      "source": [
        "#EX: classmethod\n",
        "class Mobile:\n",
        "  price = \"20\"  # class variable\n",
        "\n",
        "  @classmethod  # Decorator\n",
        "  def show_model(cls): #class Method\n",
        "    print (cls.price) # accesing class variable inside class method\n"
      ],
      "metadata": {
        "id": "SG11btP2ypjF"
      },
      "execution_count": null,
      "outputs": []
    },
    {
      "cell_type": "code",
      "source": [
        "redme = Mobile()\n",
        "redme.show_model()"
      ],
      "metadata": {
        "colab": {
          "base_uri": "https://localhost:8080/"
        },
        "id": "_ut9eEdAyqHa",
        "outputId": "122398ff-9aef-434b-a61b-1ea8243ba10e"
      },
      "execution_count": null,
      "outputs": [
        {
          "output_type": "stream",
          "name": "stdout",
          "text": [
            "20\n"
          ]
        }
      ]
    },
    {
      "cell_type": "code",
      "source": [
        "Mobile.show_model()"
      ],
      "metadata": {
        "colab": {
          "base_uri": "https://localhost:8080/"
        },
        "id": "vkkCFUO5yqQB",
        "outputId": "4690a70b-2fbb-4f25-afd4-c2d4a6b5c8bc"
      },
      "execution_count": null,
      "outputs": [
        {
          "output_type": "stream",
          "name": "stdout",
          "text": [
            "20\n"
          ]
        }
      ]
    },
    {
      "cell_type": "code",
      "source": [
        "#Staticmethod\n",
        "class Mobile:\n",
        "  @staticmethod  # Decorator\n",
        "  def show_model(m,p): #static method\n",
        "      model = m\n",
        "      price = p\n",
        "      print(model,price)"
      ],
      "metadata": {
        "id": "emomH9VpyqW-"
      },
      "execution_count": null,
      "outputs": []
    },
    {
      "cell_type": "code",
      "source": [
        "Mobile.show_model(\"redme\",\"20\") # syntax = classname.method_name()"
      ],
      "metadata": {
        "colab": {
          "base_uri": "https://localhost:8080/"
        },
        "id": "dMWCwlmSQtBF",
        "outputId": "36aa8a7e-c80e-4c30-922a-7ebebfbb9cd5"
      },
      "execution_count": null,
      "outputs": [
        {
          "output_type": "stream",
          "name": "stdout",
          "text": [
            "redme 20\n"
          ]
        }
      ]
    },
    {
      "cell_type": "code",
      "source": [],
      "metadata": {
        "id": "Zvw4gK45QtJX"
      },
      "execution_count": null,
      "outputs": []
    },
    {
      "cell_type": "code",
      "source": [],
      "metadata": {
        "id": "yMuN2H7vQtRE"
      },
      "execution_count": null,
      "outputs": []
    },
    {
      "cell_type": "markdown",
      "source": [
        "**Q11. What is method overloading in python?**\n",
        "\n",
        "-      whenever class contain more than one method with similar name and\n",
        "       different types parameters is called as  Method overloading in Python.  This allows a single function to work with different types of inputs. for Ex:"
      ],
      "metadata": {
        "id": "pV_UX0QtUsbG"
      }
    },
    {
      "cell_type": "code",
      "source": [
        "class A:\n",
        "  def show(self):\n",
        "    print(\"Welcome\")\n",
        "  def show(self,firstname= ''):\n",
        "    print(\"Welcome\",firstname)\n",
        "  def show(self,firstname= '',lastname= ''):\n",
        "    print(\"Welcome\",firstname,lastname)"
      ],
      "metadata": {
        "id": "x7MjzY2vzG15"
      },
      "execution_count": null,
      "outputs": []
    },
    {
      "cell_type": "code",
      "source": [
        "obj = A()\n",
        "obj.show()"
      ],
      "metadata": {
        "colab": {
          "base_uri": "https://localhost:8080/"
        },
        "id": "j2B7C5PWzG-z",
        "outputId": "834af113-75fd-4617-aff7-5f6c5fe6e285"
      },
      "execution_count": null,
      "outputs": [
        {
          "output_type": "stream",
          "name": "stdout",
          "text": [
            "Welcome  \n"
          ]
        }
      ]
    },
    {
      "cell_type": "code",
      "source": [
        "obj.show(\"manish\")"
      ],
      "metadata": {
        "colab": {
          "base_uri": "https://localhost:8080/"
        },
        "id": "ZCIj1HNMzHGV",
        "outputId": "20ed168b-8f04-457c-b882-a0767ba8176e"
      },
      "execution_count": null,
      "outputs": [
        {
          "output_type": "stream",
          "name": "stdout",
          "text": [
            "Welcome manish \n"
          ]
        }
      ]
    },
    {
      "cell_type": "code",
      "source": [
        "obj.show(\"manish\",\"kumar\")"
      ],
      "metadata": {
        "colab": {
          "base_uri": "https://localhost:8080/"
        },
        "id": "MesdRUYW4Y7T",
        "outputId": "f1adb70e-3a71-4dd0-a0b2-4f2af79e1ffc"
      },
      "execution_count": null,
      "outputs": [
        {
          "output_type": "stream",
          "name": "stdout",
          "text": [
            "Welcome manish kumar\n"
          ]
        }
      ]
    },
    {
      "cell_type": "code",
      "source": [
        "# You can see we are able to call different functions of similar name by passing just different parameter. This phenomena of calling the function is known as Method overloading."
      ],
      "metadata": {
        "id": "aNLOLxM24niH"
      },
      "execution_count": null,
      "outputs": []
    },
    {
      "cell_type": "markdown",
      "source": [
        "**Q12. What is method overriding in python?**\n",
        "\n",
        "-      Whenever we write method name with same signature in the parent and the\n",
        "       child class is called as method overriding.\n",
        "\n",
        "       for EX:"
      ],
      "metadata": {
        "id": "UVhALYkgU884"
      }
    },
    {
      "cell_type": "code",
      "source": [
        "class A:  # Parent class\n",
        "  pass\n",
        "  def show(self):\n",
        "    print(\"manish\")\n",
        "\n",
        "class B(A):       # Child class\n",
        "  def show(self):\n",
        "    super().show()\n",
        "    print(\"Welcome to Mumbai\")"
      ],
      "metadata": {
        "id": "JH0NrsUG4X1V"
      },
      "execution_count": null,
      "outputs": []
    },
    {
      "cell_type": "code",
      "source": [
        "obj = B()\n",
        "obj.show() # Child class overrides parent class/ If i dont use >.super().func()> it will override the parent class and display the child class function only."
      ],
      "metadata": {
        "colab": {
          "base_uri": "https://localhost:8080/"
        },
        "id": "e7wd2pPlyrOf",
        "outputId": "02111eb6-8b5f-4da6-a823-f0a76cbc4f43"
      },
      "execution_count": null,
      "outputs": [
        {
          "output_type": "stream",
          "name": "stdout",
          "text": [
            "manish\n",
            "Welcome to Mumbai\n"
          ]
        }
      ]
    },
    {
      "cell_type": "code",
      "source": [
        "obj.show()"
      ],
      "metadata": {
        "colab": {
          "base_uri": "https://localhost:8080/"
        },
        "id": "F16fJI2zyrkS",
        "outputId": "44bcf82a-62cf-4cce-ff6f-aaf66dacaa2b"
      },
      "execution_count": null,
      "outputs": [
        {
          "output_type": "stream",
          "name": "stdout",
          "text": [
            "manish\n",
            "Welcome to Mumbai\n"
          ]
        }
      ]
    },
    {
      "cell_type": "code",
      "source": [],
      "metadata": {
        "id": "_No0hRBgyrrv"
      },
      "execution_count": null,
      "outputs": []
    },
    {
      "cell_type": "markdown",
      "source": [
        "**Q13. What is a property decorator in python?**\n",
        "\n",
        "-      When you want to call a function normally not like how it is called\n",
        "       typically:print(email()) then the decorator which is used to enable this process is called as @property decorator\n",
        "\n",
        "       syntax:   @property\n",
        "                 def jjlklk(self,name,age):\n",
        "\n",
        "       for EXample:\n"
      ],
      "metadata": {
        "id": "IkuGn8IVVGe-"
      }
    },
    {
      "cell_type": "code",
      "source": [
        "#case-1st\n",
        "class Employee:\n",
        "  def __init__(self,firstname,lastname):\n",
        "    self.firstname = firstname\n",
        "    self.lastname = lastname\n",
        "\n",
        "  @property\n",
        "  def email(self):\n",
        "    return f\"{self.firstname}.{self.lastname}@gmail.com\"\n"
      ],
      "metadata": {
        "id": "0pclJtxJ2rvD"
      },
      "execution_count": 1,
      "outputs": []
    },
    {
      "cell_type": "code",
      "source": [
        "e = Employee(\"manish\",\"kumar\")\n",
        "print(e.email) # We are able to use the method without passing the paranthesis()"
      ],
      "metadata": {
        "id": "eDAAId5z2r1g",
        "colab": {
          "base_uri": "https://localhost:8080/"
        },
        "outputId": "3eb3decb-f588-426f-9912-688a4cb89299"
      },
      "execution_count": 2,
      "outputs": [
        {
          "output_type": "stream",
          "name": "stdout",
          "text": [
            "manish.kumar@gmail.com\n"
          ]
        }
      ]
    },
    {
      "cell_type": "code",
      "source": [
        "#case-2nd\n",
        "class Employee:\n",
        "  def __init__(self,firstname,lastname):\n",
        "    self.firstname = firstname\n",
        "    self.lastname = lastname\n",
        "\n",
        "  def email(self):\n",
        "    return f\"{self.firstname}.{self.lastname}@gmail.com\""
      ],
      "metadata": {
        "id": "SXyJzMjp2sIq"
      },
      "execution_count": 4,
      "outputs": []
    },
    {
      "cell_type": "code",
      "source": [
        "e = Employee(\"manish\",\"kumar\")\n",
        "print(e.email) # We are able to call the email method without passing the paranthesis()"
      ],
      "metadata": {
        "id": "1vPyLJr82sPl",
        "colab": {
          "base_uri": "https://localhost:8080/"
        },
        "outputId": "8c2cc14e-08be-4ad0-c89c-17b6fc086c36"
      },
      "execution_count": 5,
      "outputs": [
        {
          "output_type": "stream",
          "name": "stdout",
          "text": [
            "<bound method Employee.email of <__main__.Employee object at 0x7e3fe0cdc750>>\n"
          ]
        }
      ]
    },
    {
      "cell_type": "markdown",
      "source": [
        "**Q14. Why is polymorphism important in oop?**\n",
        "\n",
        "-      Polymorphism lets programmers perform a single action in various ways  \n",
        "       and define multiple forms of a single object, variable or method. It also improves the readability and scalability of code since old code can be reused and built upon as required after it is written, confirmed and executed. Reusing code also saves significant programming time and helps to speed up development.\n",
        "       for EX:"
      ],
      "metadata": {
        "id": "Fqpip6y1VPp_"
      }
    },
    {
      "cell_type": "markdown",
      "source": [
        "**Q15. What is an abstract class in python?**\n",
        "-     It is used to hide complex implementation>> hiding unneeded part and\n",
        "      displaying only required for the user point of view is called a sabstraction method.\n",
        "      \n",
        "-     It is a class that contains one or more abstract method is called as\n",
        "      abstract class.\n",
        "-     An object of an abstract class cant be created\n",
        "-     @abstractmethod>>This decorator is used to define the abstract method.\n",
        "-     Python provides abc module to work with abstraction\n",
        "      for EX:\n"
      ],
      "metadata": {
        "id": "lqX_4Hd7Va7N"
      }
    },
    {
      "cell_type": "code",
      "source": [
        "from abc import ABC,abstractmethod\n",
        "class Bank(ABC):\n",
        "  def database(self):\n",
        "    print(\"connected to database\")\n",
        "  @abstractmethod\n",
        "  def security(self):\n",
        "    pass\n",
        "class MobileApp(Bank):\n",
        "  def mobile_login(self):\n",
        "    print(\"login into mobile\")\n"
      ],
      "metadata": {
        "id": "ac3MqX1LAZgz"
      },
      "execution_count": null,
      "outputs": []
    },
    {
      "cell_type": "code",
      "source": [
        "obj = MobileApp()\n",
        "obj.database()    # It will show an error untill a function similar to abstract function mentioned in Bank class Bank is also written in other function."
      ],
      "metadata": {
        "colab": {
          "base_uri": "https://localhost:8080/",
          "height": 159
        },
        "id": "yueEsyd9AZnx",
        "outputId": "104ea903-a08b-425c-ba7b-03e1bae606a2"
      },
      "execution_count": null,
      "outputs": [
        {
          "output_type": "error",
          "ename": "TypeError",
          "evalue": "Can't instantiate abstract class MobileApp with abstract method security",
          "traceback": [
            "\u001b[0;31m---------------------------------------------------------------------------\u001b[0m",
            "\u001b[0;31mTypeError\u001b[0m                                 Traceback (most recent call last)",
            "\u001b[0;32m<ipython-input-27-c41edfa16da4>\u001b[0m in \u001b[0;36m<cell line: 0>\u001b[0;34m()\u001b[0m\n\u001b[0;32m----> 1\u001b[0;31m \u001b[0mobj\u001b[0m \u001b[0;34m=\u001b[0m \u001b[0mMobileApp\u001b[0m\u001b[0;34m(\u001b[0m\u001b[0;34m)\u001b[0m\u001b[0;34m\u001b[0m\u001b[0;34m\u001b[0m\u001b[0m\n\u001b[0m\u001b[1;32m      2\u001b[0m \u001b[0mobj\u001b[0m\u001b[0;34m.\u001b[0m\u001b[0mdatabase\u001b[0m\u001b[0;34m(\u001b[0m\u001b[0;34m)\u001b[0m\u001b[0;34m\u001b[0m\u001b[0;34m\u001b[0m\u001b[0m\n",
            "\u001b[0;31mTypeError\u001b[0m: Can't instantiate abstract class MobileApp with abstract method security"
          ]
        }
      ]
    },
    {
      "cell_type": "code",
      "source": [
        "from abc import ABC,abstractmethod\n",
        "class Bank(ABC):\n",
        "  def database(self):\n",
        "    print(\"connected to database\")\n",
        "  @abstractmethod\n",
        "  def security(self):\n",
        "    pass\n",
        "class MobileApp(Bank):\n",
        "  def mobile_login(self):\n",
        "    print(\"login into mobile\")\n",
        "def security(self):\n",
        "    print(\"Mobile security\")"
      ],
      "metadata": {
        "id": "jPrxxro1FQou"
      },
      "execution_count": null,
      "outputs": []
    },
    {
      "cell_type": "code",
      "source": [
        "obj.database()\n",
        "obj.mobile_login()\n"
      ],
      "metadata": {
        "colab": {
          "base_uri": "https://localhost:8080/"
        },
        "id": "fTWHRUI6AZt0",
        "outputId": "444569bf-f960-4594-a087-fc02c7c0d7f3"
      },
      "execution_count": null,
      "outputs": [
        {
          "output_type": "stream",
          "name": "stdout",
          "text": [
            "connected to database\n",
            "login into mobile\n"
          ]
        }
      ]
    },
    {
      "cell_type": "code",
      "source": [
        "obj.database()\n",
        "obj.security()"
      ],
      "metadata": {
        "colab": {
          "base_uri": "https://localhost:8080/"
        },
        "id": "xx2EnGr1EbJl",
        "outputId": "3054093c-3e34-4ce0-919a-4d3540b35f3f"
      },
      "execution_count": null,
      "outputs": [
        {
          "output_type": "stream",
          "name": "stdout",
          "text": [
            "connected to database\n",
            "Mobile security\n"
          ]
        }
      ]
    },
    {
      "cell_type": "markdown",
      "source": [
        "**Q16. What are the advantages of oop?**\n",
        "\n",
        "-      Advantages of OOP\n",
        "•\tModularity: Encapsulation makes objects self-contained, which makes it easier to troubleshoot and collaborate.\n",
        "•\tReusability: Inheritance allows code to be reused, so teams don't need to rewrite the same code multiple times.\n",
        "•\tFlexibility: Polymorphism allows a single function to adapt to the class it's in.\n",
        "•\tSecurity: Encapsulation and abstraction hide complex code, making software maintenance easier and protecting internet protocols.\n",
        "•\tProductivity: Programmers can quickly build new programs by using reusable code and multiple libraries.\n",
        "•\tScalability: Programmers can implement system functionalities independently.\n",
        "•\tCollaboration: Developers can divide a complex software system into small, manageable objects.\n",
        "•\tTroubleshooting: It's easier to troubleshoot because the user knows where to look in the code to find the source of the problem.\n",
        "•\tCode readability: It's easier for team members to understand.\n",
        "\n"
      ],
      "metadata": {
        "id": "4J2KeLW1VnoE"
      }
    },
    {
      "cell_type": "markdown",
      "source": [
        "**Q17. What is the difference between a class variable an an instance variable?**\n",
        "-      Instance Variable:\n",
        "       This variable is written with \"self\" parameter always\n",
        "       This variable is written under the constructor\n",
        "\n",
        "       Class Variable:\n",
        "-      This variable doesn't require any default  \n",
        "       parameter like instance variable(self).\n",
        "-      It can be assigned without any by default\n",
        "      parameters."
      ],
      "metadata": {
        "id": "J9erMBMlV3yS"
      }
    },
    {
      "cell_type": "code",
      "source": [
        "#EX- Instance variable\n",
        "class Mobile:\n",
        "  def __init__(self,make,colour): # Constructor\n",
        "    self.make = \"Bharat\" # Instance variable\n",
        "    self.colour = \"Red\"  # Instance variable\n",
        "  def show_model(self,m,p):\n",
        "      self.model = m\n",
        "      self.price = p\n",
        "      print(self.make,self.colour,self.model,self.price,)"
      ],
      "metadata": {
        "id": "0YRsi_lNU6G2"
      },
      "execution_count": null,
      "outputs": []
    },
    {
      "cell_type": "code",
      "source": [
        "mob = Mobile(\"Bharat\",\"Red\")\n",
        "mob.show_model(\"Redme\",\"20\")"
      ],
      "metadata": {
        "colab": {
          "base_uri": "https://localhost:8080/"
        },
        "id": "cMc0H5IZU6X_",
        "outputId": "19764f3c-34bd-482d-eb80-2bf8028e375f"
      },
      "execution_count": null,
      "outputs": [
        {
          "output_type": "stream",
          "name": "stdout",
          "text": [
            "Bharat Red Redme 20\n"
          ]
        }
      ]
    },
    {
      "cell_type": "code",
      "source": [
        "# Class variable\n",
        "class Mobile:\n",
        "  price = \"20\"  # class variable\n",
        "  def show_model(Mobile,m): # Method\n",
        "      redme = m\n",
        "      print (\"I am using phoen:\") # accesing class variable inside class method"
      ],
      "metadata": {
        "id": "AavQ2YEgU6e2"
      },
      "execution_count": null,
      "outputs": []
    },
    {
      "cell_type": "code",
      "source": [
        "mob1 = Mobile()\n",
        "mob1.show_model(\"m\")"
      ],
      "metadata": {
        "colab": {
          "base_uri": "https://localhost:8080/"
        },
        "id": "iJxpgibLU6le",
        "outputId": "0ff9711d-3273-4b74-9410-f85c0bf75329"
      },
      "execution_count": null,
      "outputs": [
        {
          "output_type": "stream",
          "name": "stdout",
          "text": [
            "I am using phoen: redme\n"
          ]
        }
      ]
    },
    {
      "cell_type": "markdown",
      "source": [
        "**Q18. What is multiple inheritance in python?**\n",
        "\n",
        "-      Multiple inheritance refers - Inheritance , whic contains more parent\n",
        "       class and only one child class is called as multiple inheritance.\n",
        "\n",
        "       Parent class-1 / Parent class-2 / Parent class-3 >> Child class\n",
        "       for EX:"
      ],
      "metadata": {
        "id": "VWAs6egSWBR2"
      }
    },
    {
      "cell_type": "code",
      "source": [
        "class Akhilesh:  # Paret class-1\n",
        "  back = \"oracale\"\n",
        "  def backend(self):\n",
        "    print(\"backend task is implemented using\",self.back)\n",
        "class Ankush: # Parent class-2\n",
        "  front = \"java\"\n",
        "  def frontend(self):\n",
        "    print(\"Frontend task is implemented using\", self.front)\n",
        "class Team_lead(Akhilesh,Ankush): # Child class >> can inhertit the properties of both the parent class.\n",
        "  def show(self):\n",
        "    print(\"Dynamic Website is created\")"
      ],
      "metadata": {
        "id": "kiBxGYTVHfrw"
      },
      "execution_count": null,
      "outputs": []
    },
    {
      "cell_type": "code",
      "source": [
        "obj = Team_lead()\n",
        "obj.backend()\n",
        "obj.frontend()\n",
        "obj.show()"
      ],
      "metadata": {
        "colab": {
          "base_uri": "https://localhost:8080/"
        },
        "id": "ghAPshC4Hf1B",
        "outputId": "2de66f06-c4e8-444f-9925-bb3cd140a5e0"
      },
      "execution_count": null,
      "outputs": [
        {
          "output_type": "stream",
          "name": "stdout",
          "text": [
            "backend task is implemented using oracale\n",
            "Frontend task is implemented using java\n",
            "Dynamic Website is created\n"
          ]
        }
      ]
    },
    {
      "cell_type": "markdown",
      "source": [
        "**Q19. Explain the purpose of \"__str__' and '__repr__\" methods in python.**\n",
        "\n",
        "-      In Python, the __str__ method returns an informal string representation\n",
        "       of an object, while the __repr__ method returns a formal string representation. These methods are used to control how an object is displayed in strings.\n",
        "       Purpose:\n",
        "       __str__ >> for informal, human readable strings\n",
        "       __repr__ >> for formal information rich setting"
      ],
      "metadata": {
        "id": "0b6oxqPgWJky"
      }
    },
    {
      "cell_type": "code",
      "source": [
        "class Tree:\n",
        "  def __init__(self,name,branches,colour):\n",
        "    self.name = name\n",
        "    self.branches = branches\n",
        "    self.colour = colour\n"
      ],
      "metadata": {
        "id": "b9oNW9i1M-bS"
      },
      "execution_count": null,
      "outputs": []
    },
    {
      "cell_type": "code",
      "source": [
        "t = Tree(\"Apple\",20,\"red\")\n",
        "print(t) # As you can see we are only able to access the memory location by printingthis object \"t\""
      ],
      "metadata": {
        "colab": {
          "base_uri": "https://localhost:8080/"
        },
        "id": "ZnqK8UJuM-v9",
        "outputId": "28848358-6a45-4444-ae08-7714bfa597ee"
      },
      "execution_count": null,
      "outputs": [
        {
          "output_type": "stream",
          "name": "stdout",
          "text": [
            "<__main__.Tree object at 0x7eb769b9d0d0>\n"
          ]
        }
      ]
    },
    {
      "cell_type": "code",
      "source": [
        "class Tree:\n",
        "  def __init__(self,name,branches,colour):\n",
        "    self.name = name\n",
        "    self.branches = branches\n",
        "    self.colour = colour\n",
        "  def __repr__(self):\n",
        "    return f\"Tree({self.name},{self.branches},{self.colour})\""
      ],
      "metadata": {
        "id": "8UAFd55LOucF"
      },
      "execution_count": null,
      "outputs": []
    },
    {
      "cell_type": "code",
      "source": [
        "t = Tree('Apple',20,'red')\n",
        "print(t)  # So, you can see after writing __repr__method we have got a formal representation of an object"
      ],
      "metadata": {
        "colab": {
          "base_uri": "https://localhost:8080/"
        },
        "id": "mImlN4iUPODp",
        "outputId": "43d985b8-0541-4a58-ffc2-bff893e7ef5e"
      },
      "execution_count": null,
      "outputs": [
        {
          "output_type": "stream",
          "name": "stdout",
          "text": [
            "Tree(Apple,20,red)\n"
          ]
        }
      ]
    },
    {
      "cell_type": "code",
      "source": [
        "class Tree:\n",
        "  def __init__(self,name,branches,colour):\n",
        "    self.name = name\n",
        "    self.branches = branches\n",
        "    self.colour = colour\n",
        "  def __str__(self):\n",
        "    return f\"Tree({self.name},{self.branches},{self.colour})\""
      ],
      "metadata": {
        "id": "iD2I26WnPOLa"
      },
      "execution_count": null,
      "outputs": []
    },
    {
      "cell_type": "code",
      "source": [
        "t = Tree('Apple',20,'red')\n",
        "print(t)  # So, you can see after writing __str__method we have got a informal representation of an object"
      ],
      "metadata": {
        "colab": {
          "base_uri": "https://localhost:8080/"
        },
        "id": "43te0GdMQepT",
        "outputId": "3b9df704-d22e-4933-a153-f298c7542c9b"
      },
      "execution_count": null,
      "outputs": [
        {
          "output_type": "stream",
          "name": "stdout",
          "text": [
            "Tree(Apple,20,red)\n"
          ]
        }
      ]
    },
    {
      "cell_type": "markdown",
      "source": [
        "**Q20. What is significance of the 'super()' function in\n",
        "       python?**\n",
        "\n",
        "-      'super()' function acts as a barrier for child\n",
        "        class to override the parent class.\n",
        "        for EX:"
      ],
      "metadata": {
        "id": "xog_f3_EWcDj"
      }
    },
    {
      "cell_type": "code",
      "source": [
        "class A:  # Parent class\n",
        "  pass\n",
        "  def show(self):\n",
        "    print(\"manish\")\n",
        "\n",
        "class B(A):       # Child class\n",
        "  def show(self):\n",
        "    super().show()   # Super () function\n",
        "    print(\"Welcome to Mumbai\")"
      ],
      "metadata": {
        "id": "mDhUc1vSULsh"
      },
      "execution_count": null,
      "outputs": []
    },
    {
      "cell_type": "code",
      "source": [
        "obj = B()\n",
        "obj.show() # Child class overrides parent class/ If i dont use >.super().func()>\n",
        "#it will override the parent class and display the child class function only."
      ],
      "metadata": {
        "colab": {
          "base_uri": "https://localhost:8080/"
        },
        "id": "W3SnvnQkUMdO",
        "outputId": "003b760b-171c-4e72-fef8-d8cb43832ac7"
      },
      "execution_count": null,
      "outputs": [
        {
          "output_type": "stream",
          "name": "stdout",
          "text": [
            "manish\n",
            "Welcome to Mumbai\n"
          ]
        }
      ]
    },
    {
      "cell_type": "code",
      "source": [],
      "metadata": {
        "id": "FQAl07X7UMkO"
      },
      "execution_count": null,
      "outputs": []
    },
    {
      "cell_type": "markdown",
      "source": [
        "**Q21. What is the significance of the __del_-method in\n",
        "       python?**\n",
        "\n",
        "-      In Python, the \"del\" keyword is used to delete\n",
        "       objects or variables, effectively removing them from memory by eliminating their references within the program; essentially, it allows you to explicitly remove an object from the current scope, freeing up the memory it occupies.\n",
        "       \n",
        "       syntax: The basic syntax is del variable_name."
      ],
      "metadata": {
        "id": "OY6J7yZcWtAP"
      }
    },
    {
      "cell_type": "code",
      "source": [
        "My_list = [1,2,3,4]\n",
        "del My_list[-1]  # So you can see by using del 4 at index no.-1 is deleted from the My_list.\n",
        "print(My_list)"
      ],
      "metadata": {
        "colab": {
          "base_uri": "https://localhost:8080/"
        },
        "id": "w4Th_jRsXJ0a",
        "outputId": "23a04556-15bd-4ee2-b982-ec74d4c3e507"
      },
      "execution_count": null,
      "outputs": [
        {
          "output_type": "stream",
          "name": "stdout",
          "text": [
            "[1, 2, 3]\n"
          ]
        }
      ]
    },
    {
      "cell_type": "markdown",
      "source": [
        "**Q22. What is the difference between@staticmethod and\n",
        "       @classmethod in python?**\n",
        "\n",
        "-      classmethod:\n",
        "      In Python, the key difference between @staticmethod and @classmethod is that a class method (@classmethod) receives the class itself as the first argument (cls), allowing it to access and modify class attributes,\n",
        "\n",
        "-     classmethod behaviour is same as staticmethod\n",
        "      staticmethod:\n",
        "      \n",
        "      while a static method (@staticmethod) has no access to the class or its instances, essentially acting like a regular function that is simply attached to the class namespace.\n"
      ],
      "metadata": {
        "id": "x-w34Sl6XAew"
      }
    },
    {
      "cell_type": "code",
      "source": [
        "#classmethod:\n",
        "class Usb:\n",
        "  def a(self):\n",
        "    print(\"This is instance method\")\n",
        "  @classmethod # Decorator\n",
        "  def b(cls):\n",
        "    print(\"This is class method\")\n",
        "  @staticmethod  # Decorator\n",
        "  def c():       # This is used as special defination and it has no relation with class and instance methods.\n",
        "    print(\"This is static method\")\n"
      ],
      "metadata": {
        "id": "NWmSY3fhZqGt"
      },
      "execution_count": null,
      "outputs": []
    },
    {
      "cell_type": "code",
      "source": [
        "obj = Usb()\n",
        "obj.a()\n",
        "obj.b()\n",
        "obj.c()\n"
      ],
      "metadata": {
        "colab": {
          "base_uri": "https://localhost:8080/"
        },
        "id": "0Yxw-KTMZqT-",
        "outputId": "bbbcc42f-c86d-4744-ed04-06fea53ef215"
      },
      "execution_count": null,
      "outputs": [
        {
          "output_type": "stream",
          "name": "stdout",
          "text": [
            "This is instance method\n",
            "This is class method\n",
            "This is static method\n"
          ]
        }
      ]
    },
    {
      "cell_type": "code",
      "source": [
        "Usb.b() # To access classmethod you can directly call tyhe class & staticmethod by using classname.method_name\n",
        "Usb.c()"
      ],
      "metadata": {
        "colab": {
          "base_uri": "https://localhost:8080/"
        },
        "id": "tN7CjGljZqbD",
        "outputId": "e2c696da-f471-477c-ef3c-c82ad189baaf"
      },
      "execution_count": null,
      "outputs": [
        {
          "output_type": "stream",
          "name": "stdout",
          "text": [
            "This is class method\n",
            "This is static method\n"
          ]
        }
      ]
    },
    {
      "cell_type": "markdown",
      "source": [
        "**Q23. How does polymorphism work in python with\n",
        "       inheritance?**\n",
        "\n",
        "-      In Python, polymorphism with inheritance allows a\n",
        "       child class to have the same method name as its parent class. This is possible because child classes inherit methods and attributes from their parent class."
      ],
      "metadata": {
        "id": "McgriMV1XOFf"
      }
    },
    {
      "cell_type": "markdown",
      "source": [
        "**Q24. What is method chaining in python oop?**\n",
        "\n",
        "-      It deals with calling multiple methods sequentially.\n",
        "-      Each call performs an action on the same object and return self.\n",
        "\n",
        "-      for EX:"
      ],
      "metadata": {
        "id": "kbftCmhCXcUW"
      }
    },
    {
      "cell_type": "code",
      "source": [
        "class Car:\n",
        "  def turn_on(self):\n",
        "    print(\"Car is turned on\")\n",
        "    return self\n",
        "  def drive(self):\n",
        "    print(\"Car is moving\")\n",
        "    return self\n",
        "  def turn_off(self):\n",
        "    print(\"Car is turned off\")\n",
        "    return self"
      ],
      "metadata": {
        "id": "vvbtmOjv76J0"
      },
      "execution_count": 6,
      "outputs": []
    },
    {
      "cell_type": "code",
      "source": [
        "c = Car()"
      ],
      "metadata": {
        "id": "Y7rYtDX076Qu"
      },
      "execution_count": 8,
      "outputs": []
    },
    {
      "cell_type": "code",
      "source": [
        "c.turn_on().drive().turn_off()"
      ],
      "metadata": {
        "colab": {
          "base_uri": "https://localhost:8080/"
        },
        "id": "a387q6xc76Vz",
        "outputId": "8eaa1492-1406-496f-e507-858a8e7290e7"
      },
      "execution_count": 9,
      "outputs": [
        {
          "output_type": "stream",
          "name": "stdout",
          "text": [
            "Car is turned on\n",
            "Car is moving\n",
            "Car is turned off\n"
          ]
        },
        {
          "output_type": "execute_result",
          "data": {
            "text/plain": [
              "<__main__.Car at 0x7e3fc9dc27d0>"
            ]
          },
          "metadata": {},
          "execution_count": 9
        }
      ]
    },
    {
      "cell_type": "code",
      "source": [],
      "metadata": {
        "id": "uhdttwAA76dl"
      },
      "execution_count": null,
      "outputs": []
    },
    {
      "cell_type": "markdown",
      "source": [
        "**Q25. What is purpose of the __call__ method in python?**\n",
        "\n",
        "-      method enables Python programmers to write classes where the instances\n",
        "       behave like functions and can be called like a function. When the instance is called as a function; if this method is defined,\n",
        "\n",
        "       for EX:"
      ],
      "metadata": {
        "id": "X8LpXcuIXyZR"
      }
    },
    {
      "cell_type": "code",
      "source": [
        "class Product:\n",
        "  def __init__(self,name,price):\n",
        "    self.name = name\n",
        "    self.price = price\n",
        "    print(\"These are seasonal fruits\")\n",
        "  def __call__(self):\n",
        "    print(self.name,self.price)"
      ],
      "metadata": {
        "id": "_funPqtNmqjJ"
      },
      "execution_count": null,
      "outputs": []
    },
    {
      "cell_type": "code",
      "source": [
        "Pro_details = Product(\"Apple\",20)\n",
        "Pro_details()"
      ],
      "metadata": {
        "colab": {
          "base_uri": "https://localhost:8080/"
        },
        "id": "uQcT27ORmqo9",
        "outputId": "f2558cac-994b-45bd-c8a5-139d131895a9"
      },
      "execution_count": null,
      "outputs": [
        {
          "output_type": "stream",
          "name": "stdout",
          "text": [
            "These are seasonal fruits\n",
            "Apple 20\n"
          ]
        }
      ]
    },
    {
      "cell_type": "markdown",
      "source": [
        "# **PRACTICAL QUESTION**"
      ],
      "metadata": {
        "id": "B_YbJPMAYVs6"
      }
    },
    {
      "cell_type": "markdown",
      "source": [
        "**Q1. Create a parent class animal with a method speak() that print a generic message. Create a child class Dog that overrides the speak()method to print\"Bark!\".**"
      ],
      "metadata": {
        "id": "z_owbTAiYljw"
      }
    },
    {
      "cell_type": "code",
      "source": [
        "class Animal:\n",
        "  def speak(self):\n",
        "    print(\"All animal speech is unique\")\n",
        "class Dog(Animal):\n",
        "  def speak(self):\n",
        "    print(\"Bark!\")"
      ],
      "metadata": {
        "id": "1Kloyd2_Z5q9"
      },
      "execution_count": null,
      "outputs": []
    },
    {
      "cell_type": "code",
      "source": [
        "obj = Dog()\n",
        "obj.speak()"
      ],
      "metadata": {
        "colab": {
          "base_uri": "https://localhost:8080/"
        },
        "id": "0aGSwXn9LK7k",
        "outputId": "b4b938d9-5798-463e-fc5a-0bffd77cbca5"
      },
      "execution_count": null,
      "outputs": [
        {
          "output_type": "stream",
          "name": "stdout",
          "text": [
            "Bark!\n"
          ]
        }
      ]
    },
    {
      "cell_type": "markdown",
      "source": [
        "**Q2. Write a programm to create an abstract class Shape with a method area (). Derive classes circle and rectangle from it and implement the area() method in both.**"
      ],
      "metadata": {
        "id": "V8m3xgEDZQsu"
      }
    },
    {
      "cell_type": "code",
      "source": [
        "from abc import ABC,abstractmethod\n",
        "class Shape(ABC):\n",
        "  def area_1(self):\n",
        "    print(\"Aarea of circle and Rectangle\")\n",
        "  @abstractmethod\n",
        "  def area(self):\n",
        "    pass\n",
        "class Circle(Shape):\n",
        "    def area(self,r):\n",
        "      self.r = r\n",
        "      print(\"Area of circle is :\",r**2)\n",
        "\n",
        "class Rectangle(Shape):\n",
        "    def area(self,l,b):\n",
        "      self.l = l\n",
        "      self.b = b\n",
        "      print(\"Area of rectangle is :\",l*b)\n"
      ],
      "metadata": {
        "id": "YOXdR_p8SvzV"
      },
      "execution_count": null,
      "outputs": []
    },
    {
      "cell_type": "code",
      "source": [
        "obj = Circle()\n",
        "obj.area_1()\n",
        "obj.area(2)"
      ],
      "metadata": {
        "colab": {
          "base_uri": "https://localhost:8080/"
        },
        "id": "kfqR4P2jL9fy",
        "outputId": "94454236-b968-4e61-d5b5-83e59d03928c"
      },
      "execution_count": null,
      "outputs": [
        {
          "output_type": "stream",
          "name": "stdout",
          "text": [
            "Aarea of circle and Rectangle\n",
            "Area of circle is : 4\n"
          ]
        }
      ]
    },
    {
      "cell_type": "code",
      "source": [
        "obj = Rectangle()\n",
        "obj.area_1()\n",
        "obj.area(2,3)"
      ],
      "metadata": {
        "colab": {
          "base_uri": "https://localhost:8080/"
        },
        "id": "W6RjCpk3L9ms",
        "outputId": "4dfb03ec-3655-49f4-9bc1-017b33eb6c28"
      },
      "execution_count": null,
      "outputs": [
        {
          "output_type": "stream",
          "name": "stdout",
          "text": [
            "Aarea of circle and Rectangle\n",
            "Area of rectangle is : 6\n"
          ]
        }
      ]
    },
    {
      "cell_type": "code",
      "source": [],
      "metadata": {
        "id": "yahcGlJcvytp"
      },
      "execution_count": null,
      "outputs": []
    },
    {
      "cell_type": "markdown",
      "source": [
        "**Q3. Implement a multi-level inheritance scenario where a class Vechile has an attribute type. Derive a class Car and further derive a class Electriccar that adds a battery attribute.**"
      ],
      "metadata": {
        "id": "Gxa2F3UpZ9Kg"
      }
    },
    {
      "cell_type": "code",
      "source": [
        "class Vechile:\n",
        "  def type(self):\n",
        "    print(\"There are many types of vechile\")\n",
        "\n",
        "class Car(Vechile):\n",
        "  def car_info(self,name):\n",
        "    self.name = name\n",
        "    print(\"Inside the car\",self.name)\n",
        "\n",
        "class Electriccar(Car):\n",
        "  def battery(self,name):\n",
        "    self.name = name\n",
        "    print(\"It runs on battery\",self.name)\n"
      ],
      "metadata": {
        "id": "_0F2BWwJ5whe"
      },
      "execution_count": null,
      "outputs": []
    },
    {
      "cell_type": "code",
      "source": [
        "obj1 = Car()\n",
        "obj1.type()\n",
        "obj1.car_info(\"Tata\")\n"
      ],
      "metadata": {
        "colab": {
          "base_uri": "https://localhost:8080/"
        },
        "id": "sY9wZpTp5wqR",
        "outputId": "3aaaeb3c-faea-425f-ac39-59ca8ebd5d1b"
      },
      "execution_count": null,
      "outputs": [
        {
          "output_type": "stream",
          "name": "stdout",
          "text": [
            "There are many types of vechile\n",
            "Inside the car Tata\n"
          ]
        }
      ]
    },
    {
      "cell_type": "code",
      "source": [
        "obj2 = Electriccar()\n",
        "obj2.car_info(\"Maruti\")\n",
        "obj2.battery(\"Exide\")"
      ],
      "metadata": {
        "colab": {
          "base_uri": "https://localhost:8080/"
        },
        "id": "nyt5rLabA24x",
        "outputId": "1067a7b1-585f-4d33-c5f7-ac1862a9e954"
      },
      "execution_count": null,
      "outputs": [
        {
          "output_type": "stream",
          "name": "stdout",
          "text": [
            "Inside the car Maruti\n",
            "It runs on battery Exide\n"
          ]
        }
      ]
    },
    {
      "cell_type": "code",
      "source": [],
      "metadata": {
        "id": "jQO0KGBSA2-9"
      },
      "execution_count": null,
      "outputs": []
    },
    {
      "cell_type": "code",
      "source": [],
      "metadata": {
        "id": "_RTlP5MPA3Eb"
      },
      "execution_count": null,
      "outputs": []
    },
    {
      "cell_type": "markdown",
      "source": [
        "**Q4. Demonstrate polymorphism by creating a base class Bird with a method fly(). Create two derived class Sparrow and penguine that overrides the fly()method.**"
      ],
      "metadata": {
        "id": "_cGzO_dOasUf"
      }
    },
    {
      "cell_type": "code",
      "source": [
        "class Bird():\n",
        "  def fly(self):\n",
        "    print(\"All bird can fly\")\n",
        "\n",
        "class Penguin(Bird):\n",
        "  def fly(self):\n",
        "    print(\"Penguin can't fly\")\n",
        "\n",
        "class Sparrow(Bird):\n",
        "  def fly(self):\n",
        "    print(\"Sparrow can fly\")"
      ],
      "metadata": {
        "id": "pAP-ve1HSwAI"
      },
      "execution_count": null,
      "outputs": []
    },
    {
      "cell_type": "code",
      "source": [
        "obj1 = Penguin() # Overrides the fly method of class Bird\n",
        "obj1.fly()"
      ],
      "metadata": {
        "colab": {
          "base_uri": "https://localhost:8080/"
        },
        "id": "O7tSSKowCykq",
        "outputId": "fc93981e-77e5-469b-f35c-8dd721eab447"
      },
      "execution_count": null,
      "outputs": [
        {
          "output_type": "stream",
          "name": "stdout",
          "text": [
            "Penguin can't fly\n"
          ]
        }
      ]
    },
    {
      "cell_type": "code",
      "source": [
        "obj2 = Sparrow() # Overrides the fly method of class Bird\n",
        "obj2.fly()"
      ],
      "metadata": {
        "colab": {
          "base_uri": "https://localhost:8080/"
        },
        "id": "hgXmGNiLCyq-",
        "outputId": "39362435-e9b7-4f08-e945-dd683e6a27b6"
      },
      "execution_count": null,
      "outputs": [
        {
          "output_type": "stream",
          "name": "stdout",
          "text": [
            "Sparrow can fly\n"
          ]
        }
      ]
    },
    {
      "cell_type": "code",
      "source": [
        "class Bird():\n",
        "  def fly(self):\n",
        "    print(\"All bird can fly\")\n",
        "\n",
        "class Penguin(Bird):\n",
        "  def fly(self):\n",
        "    print(\"Penguin can't fly\")\n",
        "\n",
        "class Sparrow(Bird):\n",
        "  def fly(self):\n",
        "    super().fly()\n",
        "    print(\"Sparrow can fly\")"
      ],
      "metadata": {
        "id": "Yd-2Ic0NCyw_"
      },
      "execution_count": null,
      "outputs": []
    },
    {
      "cell_type": "code",
      "source": [
        "obj2 = Sparrow() # Can't Override the fly method of class Bird due to super function.\n",
        "obj2.fly()"
      ],
      "metadata": {
        "colab": {
          "base_uri": "https://localhost:8080/"
        },
        "id": "ID8P5Ly7Pq2M",
        "outputId": "c9ea0bc3-86d4-4698-8b67-392fe14ec892"
      },
      "execution_count": null,
      "outputs": [
        {
          "output_type": "stream",
          "name": "stdout",
          "text": [
            "All bird can fly\n",
            "Sparrow can fly\n"
          ]
        }
      ]
    },
    {
      "cell_type": "markdown",
      "source": [
        "**Q5. Write aprogramm to demonstrate encapsulation by creating a class BankAccount with private attributes balance and methods to deposit,withdraw and check balance.**"
      ],
      "metadata": {
        "id": "edhOI290bLPc"
      }
    },
    {
      "cell_type": "code",
      "source": [
        "class Bank:\n",
        "    def __init__(self,balance):\n",
        "        self.__balance = balance\n",
        "    def deposit(self,amount):   # amount is new deposition\n",
        "        self.__balance = self.__balance + amount\n",
        "    def withdraw(self,amount):\n",
        "        if self.__balance >= amount:\n",
        "            self.__balance = self.__balance- amount\n",
        "            return True\n",
        "        else:\n",
        "            False\n",
        "    def get_balance(self):\n",
        "        return self.__balance"
      ],
      "metadata": {
        "id": "oYYB86nrVjAo"
      },
      "execution_count": null,
      "outputs": []
    },
    {
      "cell_type": "code",
      "source": [
        "acc1 = Bank(1000)\n",
        "acc1.get_balance()"
      ],
      "metadata": {
        "colab": {
          "base_uri": "https://localhost:8080/"
        },
        "id": "GmmxHe2XVjKg",
        "outputId": "90f2ca6f-2fc3-4d25-dc3b-c636d97c05e5"
      },
      "execution_count": null,
      "outputs": [
        {
          "output_type": "execute_result",
          "data": {
            "text/plain": [
              "1000"
            ]
          },
          "metadata": {},
          "execution_count": 86
        }
      ]
    },
    {
      "cell_type": "code",
      "source": [
        "acc1.deposit(200)\n",
        "acc1.get_balance()"
      ],
      "metadata": {
        "colab": {
          "base_uri": "https://localhost:8080/"
        },
        "id": "M6FKGUb9VjS-",
        "outputId": "4044783f-b02f-400b-feb4-bf352429b287"
      },
      "execution_count": null,
      "outputs": [
        {
          "output_type": "execute_result",
          "data": {
            "text/plain": [
              "1200"
            ]
          },
          "metadata": {},
          "execution_count": 87
        }
      ]
    },
    {
      "cell_type": "code",
      "source": [
        "acc1.withdraw(100)"
      ],
      "metadata": {
        "colab": {
          "base_uri": "https://localhost:8080/"
        },
        "id": "Wh1kVp1ZVjdL",
        "outputId": "afeb7dba-80b5-4f38-aeca-ad259be4d492"
      },
      "execution_count": null,
      "outputs": [
        {
          "output_type": "execute_result",
          "data": {
            "text/plain": [
              "True"
            ]
          },
          "metadata": {},
          "execution_count": 88
        }
      ]
    },
    {
      "cell_type": "markdown",
      "source": [
        "**Q6. Demonstrate runtime polymorphism using a method play() in a base class instrument. Derive classes Guitar and Piano that implement their own version of play().**"
      ],
      "metadata": {
        "id": "58iFtsJtcmdk"
      }
    },
    {
      "cell_type": "code",
      "source": [
        "class Instrument:\n",
        "  def play(self):\n",
        "    print(\"Instrument is playing\")\n",
        "\n",
        "class Guitar(Instrument):\n",
        "  def play(self):\n",
        "    print(\"Guitar is playing\")\n",
        "\n",
        "  def play(self):\n",
        "    print(\"guitar voice is incredible\")\n",
        "\n",
        "class Piano(Guitar):\n",
        "  def play(self):\n",
        "    print(\"Piano is playing\")\n",
        "\n",
        "  def play(self):\n",
        "    print(\"piano voice is soothing\")"
      ],
      "metadata": {
        "id": "X-MNx5fPSwJK"
      },
      "execution_count": null,
      "outputs": []
    },
    {
      "cell_type": "code",
      "source": [
        "obj1 = Guitar()\n",
        "obj1.play()"
      ],
      "metadata": {
        "colab": {
          "base_uri": "https://localhost:8080/"
        },
        "id": "eeuWq2VHXwe9",
        "outputId": "192ab4c8-1743-4eaa-f129-fdaa926a2c43"
      },
      "execution_count": null,
      "outputs": [
        {
          "output_type": "stream",
          "name": "stdout",
          "text": [
            "guitar voice is incredible\n"
          ]
        }
      ]
    },
    {
      "cell_type": "code",
      "source": [
        "obj2 = Piano()\n",
        "obj2.play()"
      ],
      "metadata": {
        "colab": {
          "base_uri": "https://localhost:8080/"
        },
        "id": "X_vRACITXwmS",
        "outputId": "8cc4b949-9e3c-4357-fd86-47610a1e70c7"
      },
      "execution_count": null,
      "outputs": [
        {
          "output_type": "stream",
          "name": "stdout",
          "text": [
            "piano voice is soothing\n"
          ]
        }
      ]
    },
    {
      "cell_type": "markdown",
      "source": [
        "**Q7. Create a class MathOperations with a class method add numbers() to add two numbers and a static method subtract_numbers() to subtract two numbers.**"
      ],
      "metadata": {
        "id": "5MmDP07jdZaD"
      }
    },
    {
      "cell_type": "code",
      "source": [
        "class MathOperations:\n",
        "  @classmethod\n",
        "  def add_numbers(cls,a,b):\n",
        "    return a+b\n",
        "  @staticmethod\n",
        "  def subtract_numbers(a,b):\n",
        "    return a-b"
      ],
      "metadata": {
        "id": "dC79HYa6SwNK"
      },
      "execution_count": null,
      "outputs": []
    },
    {
      "cell_type": "code",
      "source": [
        "obj = MathOperations()\n",
        "obj.add_numbers(2,3)"
      ],
      "metadata": {
        "colab": {
          "base_uri": "https://localhost:8080/"
        },
        "id": "wsCummjGaFUf",
        "outputId": "21486c87-e29f-4435-8a93-3024ebd4fe1e"
      },
      "execution_count": null,
      "outputs": [
        {
          "output_type": "execute_result",
          "data": {
            "text/plain": [
              "5"
            ]
          },
          "metadata": {},
          "execution_count": 95
        }
      ]
    },
    {
      "cell_type": "code",
      "source": [
        "obj.subtract_numbers(5,3)"
      ],
      "metadata": {
        "colab": {
          "base_uri": "https://localhost:8080/"
        },
        "id": "7x-2o28gaFcd",
        "outputId": "dfc32c2e-e037-4523-f32e-edb94ae8b923"
      },
      "execution_count": null,
      "outputs": [
        {
          "output_type": "execute_result",
          "data": {
            "text/plain": [
              "2"
            ]
          },
          "metadata": {},
          "execution_count": 96
        }
      ]
    },
    {
      "cell_type": "markdown",
      "source": [
        "**Q8. Implement a class Person with a class method to count the total number of persons created.**"
      ],
      "metadata": {
        "id": "nbxOYJlWdfsO"
      }
    },
    {
      "cell_type": "code",
      "source": [],
      "metadata": {
        "id": "iMGYZid_ah2I"
      },
      "execution_count": null,
      "outputs": []
    },
    {
      "cell_type": "code",
      "source": [],
      "metadata": {
        "id": "Rd_m-Rfkah-C"
      },
      "execution_count": null,
      "outputs": []
    },
    {
      "cell_type": "markdown",
      "source": [
        "**Q9. Write a class Fraction with attributes numerator and denominator.Override the str method to display the fraction as \"numerator/denumerator\".**"
      ],
      "metadata": {
        "id": "9Ekp7Pexefyq"
      }
    },
    {
      "cell_type": "code",
      "source": [
        "class Fraction:\n",
        "    def __init__(self, numerator, denominator):\n",
        "        self.numerator = numerator\n",
        "        self.denominator = denominator\n",
        "\n",
        "    def __str__(self):\n",
        "        return f\"{self.numerator}/{self.denominator}\""
      ],
      "metadata": {
        "id": "YtqYcvyBbGTD"
      },
      "execution_count": null,
      "outputs": []
    },
    {
      "cell_type": "code",
      "source": [
        "obj = Fraction(2,3)\n",
        "print(obj)"
      ],
      "metadata": {
        "colab": {
          "base_uri": "https://localhost:8080/"
        },
        "id": "POjvhDv8cf-T",
        "outputId": "0da9061d-e5be-4579-df83-f38e316df1ae"
      },
      "execution_count": null,
      "outputs": [
        {
          "output_type": "stream",
          "name": "stdout",
          "text": [
            "2/3\n"
          ]
        }
      ]
    },
    {
      "cell_type": "markdown",
      "source": [
        "**Q10. Demonstrate operator overloading by creating a class Vector and overriding the add method to add two vectors.**"
      ],
      "metadata": {
        "id": "ISL3dWYhe4F9"
      }
    },
    {
      "cell_type": "code",
      "source": [
        "class Vector:\n",
        "    def __init__(self, x, y):\n",
        "        self.x = x\n",
        "        self.y = y\n",
        "    def add(self,other):\n",
        "      return Vector(self.x+other.x,self.y+other.y)\n",
        "    def __str__(self):\n",
        "      return f\"{self.x},{self.y}\""
      ],
      "metadata": {
        "id": "08-i99b7SwZo"
      },
      "execution_count": null,
      "outputs": []
    },
    {
      "cell_type": "code",
      "source": [
        "add1 = Vector(2,3)\n",
        "add2 = Vector(4,5)\n",
        "add3 = add1.add(add2)\n",
        "print(add3)"
      ],
      "metadata": {
        "colab": {
          "base_uri": "https://localhost:8080/"
        },
        "id": "gDKVqlnqLboP",
        "outputId": "f6409ebc-c0d1-40f7-cff4-fb9fb6f7bf6d"
      },
      "execution_count": null,
      "outputs": [
        {
          "output_type": "stream",
          "name": "stdout",
          "text": [
            "6,8\n"
          ]
        }
      ]
    },
    {
      "cell_type": "markdown",
      "source": [
        "**Q11. Create a class Person with attributes name and age. Add a method greet() that prints \"hello, My name is{} and i am {} years old\".**"
      ],
      "metadata": {
        "id": "_Pbf9TAdfazQ"
      }
    },
    {
      "cell_type": "code",
      "source": [
        "class Person:\n",
        "    def __init__(self, name, age):\n",
        "        self.name = name\n",
        "        self.age = age\n",
        "\n",
        "    def greet(self):\n",
        "        print(f\"Hello, my name is {self.name} and I am {self.age} years old.\")"
      ],
      "metadata": {
        "id": "bWMlQnlNSwdz"
      },
      "execution_count": null,
      "outputs": []
    },
    {
      "cell_type": "code",
      "source": [
        "p1 = Person(\"Manish\",22)\n",
        "p1.greet()"
      ],
      "metadata": {
        "colab": {
          "base_uri": "https://localhost:8080/"
        },
        "id": "OAoelqi2L2ov",
        "outputId": "2c478ac8-e96c-4d82-83c7-cc17283b1802"
      },
      "execution_count": null,
      "outputs": [
        {
          "output_type": "stream",
          "name": "stdout",
          "text": [
            "Hello, my name is Manish and I am 22 years old.\n"
          ]
        }
      ]
    },
    {
      "cell_type": "markdown",
      "source": [
        "**Q12. Implement a class Student with atributes name and grades.Create a method average_grade() to compute avarage of the grades.**"
      ],
      "metadata": {
        "id": "5hXZM0igfi--"
      }
    },
    {
      "cell_type": "code",
      "source": [
        "class Student:\n",
        "  def __init__(self,name,grades):\n",
        "    self.name = name\n",
        "    self.grades = grades\n",
        "  def average_grade(self):\n",
        "    return sum(self.grades)/len(self.grades)\n"
      ],
      "metadata": {
        "id": "0xhNSk0dSwh7"
      },
      "execution_count": null,
      "outputs": []
    },
    {
      "cell_type": "code",
      "source": [
        "ave = Student(\"Manish\",[10,20,30])\n",
        "ave.average_grade()"
      ],
      "metadata": {
        "colab": {
          "base_uri": "https://localhost:8080/"
        },
        "id": "CtL9Q6XJjQ2W",
        "outputId": "4905a2c0-5020-4e45-c888-d00818c3549b"
      },
      "execution_count": null,
      "outputs": [
        {
          "output_type": "execute_result",
          "data": {
            "text/plain": [
              "20.0"
            ]
          },
          "metadata": {},
          "execution_count": 3
        }
      ]
    },
    {
      "cell_type": "markdown",
      "source": [
        "**Q13. Create a class Rectangle with methods set_dimension to set the dimensions and area() to calculate the area.**"
      ],
      "metadata": {
        "id": "FC67Lgn-gF6z"
      }
    },
    {
      "cell_type": "code",
      "source": [
        "class Rectangle:\n",
        "    def __init__(self, length, width):\n",
        "        self.length = length\n",
        "        self.width = width\n",
        "    def area(self):\n",
        "      return self.length*self.width"
      ],
      "metadata": {
        "id": "tEICmQX2Swl8"
      },
      "execution_count": null,
      "outputs": []
    },
    {
      "cell_type": "code",
      "source": [
        "cal_area = Rectangle(2,3)\n",
        "cal_area.area()"
      ],
      "metadata": {
        "colab": {
          "base_uri": "https://localhost:8080/"
        },
        "id": "vODCrVnOlNlW",
        "outputId": "a4c31b29-1cdb-467a-fd63-2ecc5a7f0ab4"
      },
      "execution_count": null,
      "outputs": [
        {
          "output_type": "execute_result",
          "data": {
            "text/plain": [
              "6"
            ]
          },
          "metadata": {},
          "execution_count": 5
        }
      ]
    },
    {
      "cell_type": "markdown",
      "source": [
        "**Q14. Create a class Employee with a method calculate_salary() that computes the salary based on hours worked and hourly rate. Creare a derived class Manager that adds a bonus to the salary**"
      ],
      "metadata": {
        "id": "waCf20MYhIa9"
      }
    },
    {
      "cell_type": "code",
      "source": [
        "class Employee:\n",
        "    def __init__(self, name, hours_worked, hourly_rate):\n",
        "        self.name = name\n",
        "        self.hours_worked = hours_worked\n",
        "        self.hourly_rate = hourly_rate\n",
        "    def calculate_salary(self):\n",
        "        return self.hours_worked * self.hourly_rate\n",
        "\n",
        "class Manager(Employee):\n",
        "    def __init__(self, name, hours_worked, hourly_rate, bonus):\n",
        "        super().__init__(name, hours_worked, hourly_rate)\n",
        "        self.bonus = bonus\n",
        "    def calculate_salary(self):\n",
        "       return super().calculate_salary() + self.bonus\n",
        "\n"
      ],
      "metadata": {
        "id": "6wAinATVSwqR"
      },
      "execution_count": null,
      "outputs": []
    },
    {
      "cell_type": "code",
      "source": [
        "salry1 = Manager(\"Manish\",40,20,10)\n",
        "salry1.calculate_salary()"
      ],
      "metadata": {
        "colab": {
          "base_uri": "https://localhost:8080/"
        },
        "id": "eyIW1PJulbb5",
        "outputId": "349e9276-9839-4617-ea24-ccb92cd42bdf"
      },
      "execution_count": null,
      "outputs": [
        {
          "output_type": "execute_result",
          "data": {
            "text/plain": [
              "810"
            ]
          },
          "metadata": {},
          "execution_count": 10
        }
      ]
    },
    {
      "cell_type": "markdown",
      "source": [
        "**Q15 Create a class Product with attributes name,price and quantity.Implement a method total_price() that calculate the total price of the product.**"
      ],
      "metadata": {
        "id": "xnpihmw2hPob"
      }
    },
    {
      "cell_type": "code",
      "source": [
        "class Product:\n",
        "  def __init__(self,name,price,quantity):\n",
        "    self.name = name\n",
        "    self.price = price\n",
        "    self.quantity = quantity\n",
        "  def total_price(self):\n",
        "    return self.price*self.quantity"
      ],
      "metadata": {
        "id": "AaB0X-naSwud"
      },
      "execution_count": null,
      "outputs": []
    },
    {
      "cell_type": "code",
      "source": [
        "Total_price1 = Product(\"Apple\",20,3)\n",
        "Total_price1.total_price()"
      ],
      "metadata": {
        "colab": {
          "base_uri": "https://localhost:8080/"
        },
        "id": "ElhqSsmjqGRD",
        "outputId": "5f7ceb78-5f5d-4596-d699-891fbed8ff50"
      },
      "execution_count": null,
      "outputs": [
        {
          "output_type": "execute_result",
          "data": {
            "text/plain": [
              "60"
            ]
          },
          "metadata": {},
          "execution_count": 12
        }
      ]
    },
    {
      "cell_type": "code",
      "source": [
        "Total_price2 = Product(\"Guvav\",30,3)\n",
        "Total_price2.total_price()"
      ],
      "metadata": {
        "colab": {
          "base_uri": "https://localhost:8080/"
        },
        "id": "AaGLkofwqGX7",
        "outputId": "e277c1a7-499c-45a2-bd94-541ee4e426b7"
      },
      "execution_count": null,
      "outputs": [
        {
          "output_type": "execute_result",
          "data": {
            "text/plain": [
              "90"
            ]
          },
          "metadata": {},
          "execution_count": 13
        }
      ]
    },
    {
      "cell_type": "markdown",
      "source": [
        "**Q16. Create a class Animal with an abstract method sound().Create two derived classes Cow and Sheep that implement the sound() method.**"
      ],
      "metadata": {
        "id": "O6__onHoiPdA"
      }
    },
    {
      "cell_type": "code",
      "source": [
        "from abc import ABC,abstractmethod"
      ],
      "metadata": {
        "id": "wexgYrTcSwyf"
      },
      "execution_count": null,
      "outputs": []
    },
    {
      "cell_type": "code",
      "source": [
        "class Animal(ABC):\n",
        "  def sound(self):\n",
        "    print(\"All animal sound is unique\")\n",
        "  @abstractmethod\n",
        "  def sound(self):\n",
        "    print(\"My sound is sweet\")\n",
        "class Cow(Animal):\n",
        "  def sound(self):\n",
        "    print(\"Cow sound is moo\")\n",
        "\n",
        "class Sheep(Cow):\n",
        "  def sound(self):\n",
        "    print(\"Sheep sound is baa\")"
      ],
      "metadata": {
        "id": "NLk5FfR9qg0V"
      },
      "execution_count": null,
      "outputs": []
    },
    {
      "cell_type": "code",
      "source": [
        "cow_sound = Cow() # Sound is implemented\n",
        "cow_sound.sound()"
      ],
      "metadata": {
        "colab": {
          "base_uri": "https://localhost:8080/"
        },
        "id": "6Hq7t4K6qg7K",
        "outputId": "3b5d669c-63b4-4689-a06b-f651c91534e9"
      },
      "execution_count": null,
      "outputs": [
        {
          "output_type": "stream",
          "name": "stdout",
          "text": [
            "Cow sound is moo\n"
          ]
        }
      ]
    },
    {
      "cell_type": "code",
      "source": [
        "sheep_sound = Sheep()  # Sound is implemented\n",
        "sheep_sound.sound()"
      ],
      "metadata": {
        "colab": {
          "base_uri": "https://localhost:8080/"
        },
        "id": "6PUr56P6qhAu",
        "outputId": "f74a26e2-468d-4bd8-e78b-91e39ce58f18"
      },
      "execution_count": null,
      "outputs": [
        {
          "output_type": "stream",
          "name": "stdout",
          "text": [
            "Sheep sound is baa\n"
          ]
        }
      ]
    },
    {
      "cell_type": "code",
      "source": [
        "a = Animal() # This will not be implemented due to abstract method written in this class\n",
        "a.sound()"
      ],
      "metadata": {
        "colab": {
          "base_uri": "https://localhost:8080/",
          "height": 159
        },
        "id": "UESrYgsWwc29",
        "outputId": "683ea680-cd88-45ce-c874-b426368ec3af"
      },
      "execution_count": null,
      "outputs": [
        {
          "output_type": "error",
          "ename": "TypeError",
          "evalue": "Can't instantiate abstract class Animal with abstract method sound",
          "traceback": [
            "\u001b[0;31m---------------------------------------------------------------------------\u001b[0m",
            "\u001b[0;31mTypeError\u001b[0m                                 Traceback (most recent call last)",
            "\u001b[0;32m<ipython-input-40-29da850cd450>\u001b[0m in \u001b[0;36m<cell line: 0>\u001b[0;34m()\u001b[0m\n\u001b[0;32m----> 1\u001b[0;31m \u001b[0ma\u001b[0m \u001b[0;34m=\u001b[0m \u001b[0mAnimal\u001b[0m\u001b[0;34m(\u001b[0m\u001b[0;34m)\u001b[0m\u001b[0;34m\u001b[0m\u001b[0;34m\u001b[0m\u001b[0m\n\u001b[0m\u001b[1;32m      2\u001b[0m \u001b[0ma\u001b[0m\u001b[0;34m.\u001b[0m\u001b[0msound\u001b[0m\u001b[0;34m(\u001b[0m\u001b[0;34m)\u001b[0m\u001b[0;34m\u001b[0m\u001b[0;34m\u001b[0m\u001b[0m\n",
            "\u001b[0;31mTypeError\u001b[0m: Can't instantiate abstract class Animal with abstract method sound"
          ]
        }
      ]
    },
    {
      "cell_type": "markdown",
      "source": [
        "**Q17. Create a class Book with attributes title,author and year_published.Add a method get_book_info() that returns a formatted string with the book's details.**"
      ],
      "metadata": {
        "id": "dAc6bVF0iVbK"
      }
    },
    {
      "cell_type": "code",
      "source": [
        "class Book:\n",
        "  def __init__(self,title,author,year_published):\n",
        "    self.title = title\n",
        "    self.author = author\n",
        "    self.year_published = year_published\n",
        "\n",
        "  def get_book_info(self):\n",
        "    return f\"Title: {self.title}\\nAuthor: {self.author}\\nYear Published: {self.year_published}\""
      ],
      "metadata": {
        "id": "GVB1S6PfSw2s"
      },
      "execution_count": null,
      "outputs": []
    },
    {
      "cell_type": "code",
      "source": [
        "book_details = Book(\"Python\",\"Manish\",2023)\n",
        "book_details.get_book_info()\n"
      ],
      "metadata": {
        "colab": {
          "base_uri": "https://localhost:8080/",
          "height": 35
        },
        "id": "HBBLl_wzJiKe",
        "outputId": "a0e420ea-ed75-4b3d-f25d-152f723bd4a1"
      },
      "execution_count": null,
      "outputs": [
        {
          "output_type": "execute_result",
          "data": {
            "text/plain": [
              "'Title: Python\\nAuthor: Manish\\nYear Published: 2023'"
            ],
            "application/vnd.google.colaboratory.intrinsic+json": {
              "type": "string"
            }
          },
          "metadata": {},
          "execution_count": 47
        }
      ]
    },
    {
      "cell_type": "markdown",
      "source": [
        "**Q18. Create a class House with attributes address and price. Create a derived class Mansion that adds an attribute number_of_rooms.**"
      ],
      "metadata": {
        "id": "mt4ZBskoi2_c"
      }
    },
    {
      "cell_type": "code",
      "source": [
        "class House:\n",
        "  def __init__(self,address,price):\n",
        "    self.address = address\n",
        "    self.price = price\n",
        "\n",
        "class Mansion(House):\n",
        "  def __init__(self,address,price,number_of_rooms):\n",
        "    super().__init__(address,price)\n",
        "    self.number_of_rooms = number_of_rooms"
      ],
      "metadata": {
        "id": "e9XG9GxrSw6_"
      },
      "execution_count": null,
      "outputs": []
    },
    {
      "cell_type": "code",
      "source": [
        "ro = Mansion(\"Patna\",2000000,10)\n",
        "print(\"My address is :\",ro.address)\n",
        "print(\"Price is :\",ro.price)\n",
        "print(\"Room details is :\",ro.number_of_rooms)"
      ],
      "metadata": {
        "id": "GXrP9op6Sw_b",
        "colab": {
          "base_uri": "https://localhost:8080/"
        },
        "outputId": "9b36dc91-dfd8-4f80-8dd5-5daa44403635"
      },
      "execution_count": null,
      "outputs": [
        {
          "output_type": "stream",
          "name": "stdout",
          "text": [
            "My address is : Patna\n",
            "Price is : 2000000\n",
            "Room details is : 10\n"
          ]
        }
      ]
    },
    {
      "cell_type": "code",
      "source": [],
      "metadata": {
        "id": "OIM_FM0QSxD0"
      },
      "execution_count": null,
      "outputs": []
    },
    {
      "cell_type": "code",
      "source": [],
      "metadata": {
        "id": "JzkeGBcWSxH5"
      },
      "execution_count": null,
      "outputs": []
    },
    {
      "cell_type": "code",
      "source": [],
      "metadata": {
        "id": "V3skCHApSxMV"
      },
      "execution_count": null,
      "outputs": []
    },
    {
      "cell_type": "code",
      "source": [],
      "metadata": {
        "id": "m4UlbJlmSxQe"
      },
      "execution_count": null,
      "outputs": []
    },
    {
      "cell_type": "code",
      "source": [],
      "metadata": {
        "id": "f24Y2EpwSxUp"
      },
      "execution_count": null,
      "outputs": []
    },
    {
      "cell_type": "code",
      "source": [],
      "metadata": {
        "id": "LK-ttx6mSxYw"
      },
      "execution_count": null,
      "outputs": []
    },
    {
      "cell_type": "code",
      "source": [],
      "metadata": {
        "id": "HKo1ck3VSxc1"
      },
      "execution_count": null,
      "outputs": []
    },
    {
      "cell_type": "code",
      "source": [],
      "metadata": {
        "id": "FkhtGgSJSxgz"
      },
      "execution_count": null,
      "outputs": []
    },
    {
      "cell_type": "code",
      "source": [],
      "metadata": {
        "id": "vu0zS7IwSxk0"
      },
      "execution_count": null,
      "outputs": []
    },
    {
      "cell_type": "code",
      "source": [],
      "metadata": {
        "id": "PGx-07woSxpD"
      },
      "execution_count": null,
      "outputs": []
    },
    {
      "cell_type": "code",
      "source": [],
      "metadata": {
        "id": "dsIcpJruSxtN"
      },
      "execution_count": null,
      "outputs": []
    },
    {
      "cell_type": "code",
      "source": [],
      "metadata": {
        "id": "uYcmdExzSxxe"
      },
      "execution_count": null,
      "outputs": []
    },
    {
      "cell_type": "code",
      "source": [],
      "metadata": {
        "id": "jm8JusxoSx13"
      },
      "execution_count": null,
      "outputs": []
    },
    {
      "cell_type": "code",
      "source": [],
      "metadata": {
        "id": "V2qoDNfESx6P"
      },
      "execution_count": null,
      "outputs": []
    },
    {
      "cell_type": "code",
      "source": [],
      "metadata": {
        "id": "QwgQHdWDSx-f"
      },
      "execution_count": null,
      "outputs": []
    },
    {
      "cell_type": "code",
      "source": [],
      "metadata": {
        "id": "yeZm7BNfSyCr"
      },
      "execution_count": null,
      "outputs": []
    },
    {
      "cell_type": "code",
      "source": [],
      "metadata": {
        "id": "tHLK1zkmSyHD"
      },
      "execution_count": null,
      "outputs": []
    },
    {
      "cell_type": "code",
      "source": [],
      "metadata": {
        "id": "YRrKEiFTSyLX"
      },
      "execution_count": null,
      "outputs": []
    },
    {
      "cell_type": "code",
      "source": [],
      "metadata": {
        "id": "OPhAGOv-SyQX"
      },
      "execution_count": null,
      "outputs": []
    },
    {
      "cell_type": "code",
      "source": [],
      "metadata": {
        "id": "3AMNlurASyVW"
      },
      "execution_count": null,
      "outputs": []
    },
    {
      "cell_type": "code",
      "source": [],
      "metadata": {
        "id": "RDxgoynaSybQ"
      },
      "execution_count": null,
      "outputs": []
    }
  ]
}